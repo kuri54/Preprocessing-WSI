{
 "cells": [
  {
   "cell_type": "markdown",
   "source": [
    "## Preprocessing\n",
    "https://notebook.community/fschueler/incubator-systemml/projects/breast_cancer/Preprocessing"
   ],
   "metadata": {}
  },
  {
   "cell_type": "markdown",
   "source": [
    "## Setup"
   ],
   "metadata": {}
  },
  {
   "cell_type": "code",
   "execution_count": 239,
   "source": [
    "import math\n",
    "import os\n",
    "import matplotlib.pyplot as plt\n",
    "import numpy as np\n",
    "import openslide\n",
    "from openslide.deepzoom import DeepZoomGenerator\n",
    "import pandas as pd\n",
    "# from pyspark.mllib.linalg import Vectors\n",
    "from scipy.ndimage.morphology import binary_fill_holes\n",
    "from skimage.color import rgb2gray\n",
    "from skimage.feature import canny\n",
    "from skimage.morphology import binary_closing, binary_dilation, disk\n",
    "\n",
    "from PIL import Image\n",
    "# from tqdm import tqdm\n",
    "from tqdm.notebook import tqdm\n",
    "\n",
    "plt.rcParams['figure.figsize'] = (10, 6)"
   ],
   "outputs": [],
   "metadata": {}
  },
  {
   "cell_type": "markdown",
   "source": [
    "## Open Whole-Slide Image"
   ],
   "metadata": {}
  },
  {
   "cell_type": "code",
   "execution_count": 240,
   "source": [
    "def open_slide(slide_num, folder):\n",
    "    '''画像番号を指定してWSIを開く\n",
    "    :param slide_num: スライド番号\n",
    "    :param folder: スライドフォルダが入っているディレクトリ\n",
    "  \n",
    "    :Return OpenSlide objectのWSI\n",
    "    '''\n",
    "    slide_names = os.listdir(folder)\n",
    "    filename = os.path.join(folder, slide_names[slide_num])\n",
    " \n",
    "    slide = openslide.open_slide(filename)\n",
    "    return slide"
   ],
   "outputs": [],
   "metadata": {}
  },
  {
   "cell_type": "markdown",
   "source": [
    "## Create Tile Generator"
   ],
   "metadata": {}
  },
  {
   "cell_type": "code",
   "execution_count": 241,
   "source": [
    "def create_tile_generator(slide, tile_size=1024, overlap=0):\n",
    "    '''WSIからタイル画像を抽出するためのgeneratorを生成する\n",
    "\n",
    "    :param slide: OpenSlide objectのWSI\n",
    "    :param tile_size: 生成されるタイル画像ｇあの幅と高さを指定（正方形）\n",
    "    :param overlap: タイル間のオーバーラップのピクセル数\n",
    "\n",
    "    :Returns generator\n",
    "    Note: 抽出されたタイル画像はShape(tile_size, tile_size, channels)を持つ\n",
    "    '''\n",
    "    generator = DeepZoomGenerator(slide, tile_size=tile_size, overlap=overlap, limit_bounds=True)\n",
    "    return generator"
   ],
   "outputs": [],
   "metadata": {}
  },
  {
   "cell_type": "markdown",
   "source": [
    "## Determine 20x Magnification Zoom Level"
   ],
   "metadata": {}
  },
  {
   "cell_type": "code",
   "execution_count": 242,
   "source": [
    "def get_20x_zoom_level(slide, generator):\n",
    "    '''20倍に相当するzoom levelを返す\n",
    "    generatorは複数ズームレベルからタイルを抽出\n",
    "    高解像度から低解像度までの各レベルで2倍のダウンサンプリングをする\n",
    "\n",
    "    param: slide: OpenSlide objectのWSI\n",
    "    param: generator: DeepZoomGenerator object\n",
    "\n",
    "    Return: 20倍に相当するズームレベルまたはそれに近いレベル\n",
    "    '''\n",
    "    # level_count - 1とすることで最低解像度のレベルindexを取得\n",
    "    highest_zoom_level = generator.level_count - 1  # 0-based indexing\n",
    "\n",
    "    try:\n",
    "        # スライドの対物レンズの倍率を表すプロパティを取得\n",
    "        mag = int(slide.properties[openslide.PROPERTY_NAME_OBJECTIVE_POWER])\n",
    "        \n",
    "        # mag / 20: スライドの倍率と望んだ倍率との間のダウンサンプリング係数\n",
    "        # (mag / 20) / 2: generatorのダウンサンプリング係数に基づいて、最高解像度レベルからのズームレベルのオフセット\n",
    "        offset = math.floor((mag / 20) / 2)\n",
    "\n",
    "        level = highest_zoom_level - offset\n",
    "\n",
    "    except ValueError:\n",
    "        # スライドの倍率がわからない場合は最高解像度を返す\n",
    "        level = highest_zoom_level\n",
    "        \n",
    "    return level"
   ],
   "outputs": [],
   "metadata": {}
  },
  {
   "cell_type": "markdown",
   "source": [
    "## Generate Tile Indices For Whole-Slide Image."
   ],
   "metadata": {}
  },
  {
   "cell_type": "code",
   "execution_count": 243,
   "source": [
    "def process_slide(slide_num, folder, tile_size=1024, overlap=0):\n",
    "    '''WSIに対して可能な全てのタイル画像のインデックスを生成\n",
    "    を生成\n",
    "\n",
    "    :param slide_num: スライド番号\n",
    "    :param folder: スライドフォルダが入っているディレクトリ\n",
    "    :param tile_size: 生成されるタイル画像の幅と高さを指定（正方形）\n",
    "    overlap: タイル間のオーバーラップのピクセル数\n",
    "\n",
    "    Return: (slide_num, tile_size, overlap, zoom_level, col, row)のリスト\n",
    "    '''\n",
    "    # WSIを開く\n",
    "    slide = open_slide(slide_num, folder)\n",
    "\n",
    "    # generatorを生成\n",
    "    generator = create_tile_generator(slide, tile_size, overlap)\n",
    "\n",
    "    # 20倍のzoom levelを取得\n",
    "    zoom_level = get_20x_zoom_level(slide, generator)\n",
    "\n",
    "    # 可能な全てのタイル画像のインデックスを生成\n",
    "    # 指定したレベルの(tile_x, tile_y)タプルのリストを返す\n",
    "    cols, rows = generator.level_tiles[zoom_level]\n",
    "\n",
    "    tile_indices = [(slide_num, tile_size, overlap, zoom_level, col, row)\n",
    "                    for col in range(cols) for row in range(rows)]\n",
    "\n",
    "    return tile_indices"
   ],
   "outputs": [],
   "metadata": {}
  },
  {
   "cell_type": "markdown",
   "source": [
    "## Generate Tile From Tile Index"
   ],
   "metadata": {}
  },
  {
   "cell_type": "code",
   "execution_count": 244,
   "source": [
    "def process_tile_index(tile_index, folder):\n",
    "    '''タイルインデックスからタイル画像を生成\n",
    "    :param tile_index: 抽出するタイルを表すインデックスタプル\n",
    "    :param folder: スライドフォルダが入っているディレクトリ\n",
    "     \n",
    "    Return: (slide_num, tile)のタプル\n",
    "            RGB形式の3次元Numpy配列 (tile_size, tile_size, channels)\n",
    "    '''\n",
    "    slide_num, tile_size, overlap, zoom_level, col, row = tile_index\n",
    "    \n",
    "    # WSIを開く\n",
    "    slide = open_slide(slide_num, folder)\n",
    "\n",
    "    # generatorを生成\n",
    "    generator = create_tile_generator(slide, tile_size, overlap)\n",
    "\n",
    "    # タイル画像を生成\n",
    "    tile = np.array(generator.get_tile(zoom_level, (col, row)))\n",
    "    \n",
    "    return (slide_num, tile)"
   ],
   "outputs": [],
   "metadata": {}
  },
  {
   "cell_type": "markdown",
   "source": [
    "## Filter Tile For Dimensions & Tissue Threshold"
   ],
   "metadata": {}
  },
  {
   "cell_type": "code",
   "execution_count": 245,
   "source": [
    "def keep_tile(tile_tuple, tile_size=1024, tissue_threshold=0.9):\n",
    "    '''タイル画像を残すかどうか判断する\n",
    "    サイズと組織割合の閾値に基づいてタイル画像をフィルタリングする\n",
    "    あるタイル画像の高さと幅が(tile_size, tile_size)に等しく、\n",
    "    かつ、指定された％以上の成分を含むタイルを保持する\n",
    "    それ以外の場合はフィルタリングされる\n",
    "\n",
    "    param: tile_tuple: (slide_num, tile) のタプル\n",
    "    param: tile_size: 生成されるタイル画像の幅と高さを指定（正方形）\n",
    "    param: tissue_threshold: 組織割合の閾値\n",
    "\n",
    "    Return: タイル画像を保持するかどうかのブール値\n",
    "    '''\n",
    "    slide_num, tile = tile_tuple\n",
    "    \n",
    "    if tile.shape[0:2] == (tile_size, tile_size):\n",
    "        # 3DのRGB画像を2Dのgrayscaleに変換\n",
    "        # 0 (高密度) から1 (無地の背景)\n",
    "        tile = rgb2gray(tile)\n",
    "        \n",
    "        # 8-bitのDepthを補完 1から0まで\n",
    "        tile = 1 - tile\n",
    "\n",
    "        # hysteresis thresholdingによるCanny edgeの検出\n",
    "        # 1がedgeに相当（組織にはedgeが多い、背景はそうでもないということ）\n",
    "        tile = canny(tile)\n",
    "\n",
    "        # Binary closing\n",
    "        # 拡張の後に収縮を行うことで背景のノイズを取り除く\n",
    "        tile = binary_closing(tile, disk(10))\n",
    "\n",
    "        # Binary dilation\n",
    "        # 明るい部分を拡大し、暗い部分を縮小することで組織領域内の穴を埋める\n",
    "        tile = binary_dilation(tile, disk(10))\n",
    "\n",
    "        # 組織領域内の残りの穴を埋める\n",
    "        tile = binary_fill_holes(tile)\n",
    "\n",
    "        # 組織のカバー率を算出\n",
    "        percentage = tile.mean()\n",
    "        \n",
    "        return percentage >= tissue_threshold\n",
    "    \n",
    "    else:\n",
    "      return False"
   ],
   "outputs": [],
   "metadata": {}
  },
  {
   "cell_type": "markdown",
   "source": [
    "## Generate Flattened Samples From Tile"
   ],
   "metadata": {}
  },
  {
   "cell_type": "code",
   "execution_count": 246,
   "source": [
    "def process_tile(tile_tuple, sample_size=256, grayscale=False):\n",
    "    '''タイル画像をより小さな画像に加工する\n",
    "    タイル画像をsample_size * sample_sizeピクセルの小さなタイルに切り分ける\n",
    "    各サンプルの形状を(H, W, C)から(C, H, W)に変換する\n",
    "    それぞれを長さC * H * Wの長さのベクトルに変換\n",
    "\n",
    "    param: tile_tuple: (slide_num, tile) のタプル\n",
    "    param: sample_size: 生成されるタイル画像の幅と高さを指定（正方形）\n",
    "    grayscale: RGBではなくgrayscaleのサンプルを生成するかどうか。\n",
    "\n",
    "    Return: Flattenされた(channels * sample_size_x * sample_size_y)のベクトル\n",
    "    '''\n",
    "    slide_num, tile = tile_tuple\n",
    "\n",
    "    if grayscale:\n",
    "      # grayscaleに変換\n",
    "      tile = rgb2gray(tile)[:, :, np.newaxis]\n",
    "      \n",
    "      # [0, 1]から[0, 255]に変換することでディスク容量と時間を節約できるが、若干の情報破損が生じる\n",
    "      tile = np.round(tile * 255).astype(\"uint8\")\n",
    "\n",
    "    x, y, ch = tile.shape\n",
    "    \n",
    "    # (num_x, sample_size_x, num_y, sample_size_y, ch）の5次元配列にreshape\n",
    "    # num_x, yはそれぞれx軸とy軸に分割されたタイルの数\n",
    "    samples = (tile.reshape((x // sample_size, sample_size, y // sample_size, sample_size, ch))\n",
    "                    .swapaxes(1,2) # sample_size_xとnum_yの軸を入れ替え (num_x, num_y, sample_size_x, sample_size_y, ch)\n",
    "                    .reshape((-1, sample_size, sample_size, ch)) # num_xとnum_yを1つの軸に結合 (num_samples, sample_size_x, sample_size_y, ch)\n",
    "                    .transpose(0,3,1,2)) # (num_samples, ch, sample_size_x, sample_size_y)\n",
    "\n",
    "    # Flatten (num_samples, ch * sample_size_x * sample_size_y)\n",
    "    samples = samples.reshape(samples.shape[0], -1)\n",
    "\n",
    "    samples = [(slide_num, sample) for sample in list(samples)]\n",
    "\n",
    "    return samples"
   ],
   "outputs": [],
   "metadata": {}
  },
  {
   "cell_type": "markdown",
   "source": [
    "## Visualize Tile"
   ],
   "metadata": {}
  },
  {
   "cell_type": "code",
   "execution_count": 247,
   "source": [
    "def visualize_tile(tile):\n",
    "    '''タイル画像をプロットする\n",
    "    param: tile: 3次元のNumpy配列 (tile_size, tile_size, channels)\n",
    "\n",
    "    Return: None\n",
    "    '''\n",
    "    plt.imshow(tile)\n",
    "    plt.show()"
   ],
   "outputs": [],
   "metadata": {}
  },
  {
   "cell_type": "markdown",
   "source": [
    "## Visualize Sample"
   ],
   "metadata": {}
  },
  {
   "cell_type": "code",
   "execution_count": 248,
   "source": [
    "def visualize_sample(sample, size=256):\n",
    "    '''画像サンプルをプロットする\n",
    "    param: sample: 正方形の画像をflattenしたvectors (channels * size_x * size_y)\n",
    "    param: size: 正方形の画像の幅と高さ\n",
    "\n",
    "    Return: None\n",
    "    '''\n",
    "    # (size_x, size_y, channels)へ変換\n",
    "    length = sample.shape[0]\n",
    "    channels = int(length / (size * size))\n",
    "\n",
    "    if channels > 1:\n",
    "        sample = sample.astype('uint8').reshape((channels, size, size)).transpose(1,2,0)\n",
    "        plt.imshow(sample)\n",
    "    else:\n",
    "        vmax = 255 if sample.max() > 1 else 1\n",
    "        sample = sample.reshape((size, size))\n",
    "        plt.imshow(sample, cmap=\"gray\", vmin=0, vmax=vmax)\n",
    "        plt.show()"
   ],
   "outputs": [],
   "metadata": {}
  },
  {
   "cell_type": "code",
   "execution_count": 249,
   "source": [
    "def get_file_name(slide_num, folder):\n",
    "    '''ファイル名を取得\n",
    "    '''\n",
    "    slide_names = os.listdir(folder)\n",
    "    filename = slide_names[slide_num].split('.')\n",
    "\n",
    "    # 拡張子はいらない\n",
    "    return filename[0]"
   ],
   "outputs": [],
   "metadata": {}
  },
  {
   "cell_type": "code",
   "execution_count": 250,
   "source": [
    "def make_dirs(output_dir, slide_name):\n",
    "    '''保存用のディレクトリを作成\n",
    "    '''\n",
    "    if not os.path.exists(f'{output_dir + slide_name}'):\n",
    "        os.mkdir(f'{output_dir + slide_name}')"
   ],
   "outputs": [],
   "metadata": {}
  },
  {
   "cell_type": "code",
   "execution_count": 260,
   "source": [
    "def save_jpeg_images(sample, sample_num, slide_name):\n",
    "    '''flattenされたvectorから画像をjpegで保存\n",
    "    :param sample: (channels * sample_size_x * sample_size_y)\n",
    "    '''\n",
    "    # 画像長を抽出し、チャネル数を算出\n",
    "    length = sample.shape[0]\n",
    "    channels = int(length / (256 * 256))\n",
    "\n",
    "    # 配列を(H*W*C)の形式に変換\n",
    "    image = sample.astype('uint8').reshape((channels, 256, 256)).transpose(1,2,0)\n",
    "\n",
    "    # PILフォーマットに変換\n",
    "    pil_image = Image.fromarray(image)\n",
    "\n",
    "    # 保存 WSI名_連番の形式で\n",
    "    pil_image.save(f'../output/{slide_name}/{slide_name}_{sample_num}.jpeg')"
   ],
   "outputs": [],
   "metadata": {}
  },
  {
   "cell_type": "markdown",
   "source": [
    "## Process All Slides And Save"
   ],
   "metadata": {}
  },
  {
   "cell_type": "code",
   "execution_count": 261,
   "source": [
    "def process(slide_num, folder=slide_dir, output_dir=output_dir, tile_size=1024, over_lap=0, tissue_threshold=0.9, sample_size=256, grayscale=False):\n",
    "    print('Process start....')\n",
    "    # WSIに対して可能な全てのタイル画像のインデックスを生成\n",
    "    tile_idx = process_slide(slide_num, folder, tile_size, over_lap)\n",
    "\n",
    "    print('Generate tiled image from index....')\n",
    "    # タイルインデックスからタイル画像を生成\n",
    "    tiles = [process_tile_index(i, folder) for i in tqdm(tile_idx)]\n",
    "\n",
    "    print('Filtering a tile image....')\n",
    "    # タイル画像のフィルタリング\n",
    "    filtered_tiles = list(filter(lambda tile: keep_tile(tile, tile_size, tissue_threshold), tqdm(tiles)))\n",
    "\n",
    "    # タイル画像をより小さなタイル画像にする\n",
    "    samples = [n for i in filtered_tiles for n in process_tile(i, sample_size, grayscale)]\n",
    "\n",
    "    # ファイル名を取得\n",
    "    slide_name = get_file_name(slide_num, folder)\n",
    "\n",
    "    # 保存用のディレクトリを作成\n",
    "    make_dirs(output_dir, slide_name)\n",
    "\n",
    "    print('Saving Tile Images....')\n",
    "    # flatten vectorから画像をPILフォーマットに変換し保存\n",
    "    for sample_num, sample in enumerate(tqdm(samples)):\n",
    "        sample = sample[1]\n",
    "        save_jpeg_images(sample, sample_num, slide_name)\n"
   ],
   "outputs": [],
   "metadata": {}
  },
  {
   "cell_type": "code",
   "execution_count": 264,
   "source": [
    "slide_dir = '../input/'\n",
    "output_dir = '../output/'"
   ],
   "outputs": [],
   "metadata": {}
  },
  {
   "cell_type": "code",
   "execution_count": 265,
   "source": [
    "process(2)"
   ],
   "outputs": [
    {
     "output_type": "stream",
     "name": "stdout",
     "text": [
      "Process start....\n",
      "Generate tiled image from index....\n"
     ]
    },
    {
     "output_type": "display_data",
     "data": {
      "text/plain": [
       "HBox(children=(IntProgress(value=0, max=1972), HTML(value='')))"
      ],
      "application/vnd.jupyter.widget-view+json": {
       "version_major": 2,
       "version_minor": 0,
       "model_id": "dd9afe00153f431c9aa10af2ba44d5ae"
      }
     },
     "metadata": {}
    },
    {
     "output_type": "stream",
     "name": "stdout",
     "text": [
      "\n",
      "Filtering a tile image....\n"
     ]
    },
    {
     "output_type": "display_data",
     "data": {
      "text/plain": [
       "HBox(children=(IntProgress(value=0, max=1972), HTML(value='')))"
      ],
      "application/vnd.jupyter.widget-view+json": {
       "version_major": 2,
       "version_minor": 0,
       "model_id": "4357fd657c104776af1df05ad29f7162"
      }
     },
     "metadata": {}
    },
    {
     "output_type": "stream",
     "name": "stdout",
     "text": [
      "\n",
      "Saving Tile Images....\n"
     ]
    },
    {
     "output_type": "display_data",
     "data": {
      "text/plain": [
       "HBox(children=(IntProgress(value=0, max=12800), HTML(value='')))"
      ],
      "application/vnd.jupyter.widget-view+json": {
       "version_major": 2,
       "version_minor": 0,
       "model_id": "169bdeb416954c2ba5ef5ba33bf63244"
      }
     },
     "metadata": {}
    },
    {
     "output_type": "stream",
     "name": "stdout",
     "text": [
      "\n"
     ]
    }
   ],
   "metadata": {}
  },
  {
   "cell_type": "code",
   "execution_count": null,
   "source": [],
   "outputs": [],
   "metadata": {}
  }
 ],
 "metadata": {
  "orig_nbformat": 4,
  "language_info": {
   "name": "python",
   "version": "3.7.4",
   "mimetype": "text/x-python",
   "codemirror_mode": {
    "name": "ipython",
    "version": 3
   },
   "pygments_lexer": "ipython3",
   "nbconvert_exporter": "python",
   "file_extension": ".py"
  },
  "kernelspec": {
   "name": "python3",
   "display_name": "Python 3.7.4 64-bit ('base': conda)"
  },
  "interpreter": {
   "hash": "dca0ade3e726a953b501b15e8e990130d2b7799f14cfd9f4271676035ebe5511"
  }
 },
 "nbformat": 4,
 "nbformat_minor": 2
}